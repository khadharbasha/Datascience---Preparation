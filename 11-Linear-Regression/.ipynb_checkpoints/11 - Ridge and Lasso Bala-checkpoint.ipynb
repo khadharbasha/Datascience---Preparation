{
 "cells": [
  {
   "cell_type": "markdown",
   "metadata": {},
   "source": [
    "### Ridge Regression"
   ]
  },
  {
   "cell_type": "code",
   "execution_count": 1,
   "metadata": {},
   "outputs": [],
   "source": [
    "# Load libraries\n",
    "from sklearn.linear_model import RidgeCV, Ridge\n",
    "from sklearn.datasets import load_boston\n",
    "from sklearn.preprocessing import StandardScaler\n",
    "\n",
    "\n",
    "from sklearn.linear_model import LassoCV\n",
    "import pandas as pd"
   ]
  },
  {
   "cell_type": "markdown",
   "metadata": {},
   "source": [
    "### Load Boston Housing Dataset"
   ]
  },
  {
   "cell_type": "code",
   "execution_count": 2,
   "metadata": {},
   "outputs": [],
   "source": [
    "# Load data\n",
    "boston = load_boston()\n",
    "X = boston.data\n",
    "y = boston.target"
   ]
  },
  {
   "cell_type": "markdown",
   "metadata": {},
   "source": [
    "### Standardize Features\n",
    "Note: Because in linear regression the value of the coefficients is partially determined by the scale of the feature, and in regularized models all coefficients are summed together, we must make sure to standardize the feature prior to training."
   ]
  },
  {
   "cell_type": "code",
   "execution_count": 3,
   "metadata": {},
   "outputs": [],
   "source": [
    "# Standarize features\n",
    "scaler = StandardScaler()\n",
    "X_std = scaler.fit_transform(X)\n",
    "\n",
    "X1 = scaler.fit_transform(boston[\"data\"])\n",
    "Y1 = boston[\"target\"]\n",
    "\n",
    "names = boston[\"feature_names\"]"
   ]
  },
  {
   "cell_type": "markdown",
   "metadata": {},
   "source": [
    "### Create Ridge Regression With Candidate Alpha Values"
   ]
  },
  {
   "cell_type": "code",
   "execution_count": 4,
   "metadata": {},
   "outputs": [],
   "source": [
    "# Create ridge regression with three possible alpha values\n",
    "regr_cv = RidgeCV(alphas=[0.1, 1.0, 10.0])"
   ]
  },
  {
   "cell_type": "markdown",
   "metadata": {},
   "source": [
    "### Fit Ridge Regression\n",
    "scikit-learn includes a RidgeCV method that allows us select the ideal value for \n",
    "α\n"
   ]
  },
  {
   "cell_type": "code",
   "execution_count": 5,
   "metadata": {},
   "outputs": [],
   "source": [
    "# Fit the linear regression\n",
    "model_cv = regr_cv.fit(X_std, y)"
   ]
  },
  {
   "cell_type": "markdown",
   "metadata": {},
   "source": [
    "### View Best Model’s Alpha Value"
   ]
  },
  {
   "cell_type": "code",
   "execution_count": 6,
   "metadata": {},
   "outputs": [
    {
     "data": {
      "text/plain": [
       "1.0"
      ]
     },
     "execution_count": 6,
     "metadata": {},
     "output_type": "execute_result"
    }
   ],
   "source": [
    "# View alpha\n",
    "model_cv.alpha_"
   ]
  },
  {
   "cell_type": "code",
   "execution_count": 7,
   "metadata": {},
   "outputs": [],
   "source": [
    "# Create a function called ridge\n",
    "def ridge(alphas):\n",
    "    '''\n",
    "    Takes in a list of alphas. Outputs a dataframe containing the coefficients of ridge regressions from each alpha.\n",
    "    '''\n",
    "    # Create an empty data frame\n",
    "    df = pd.DataFrame()\n",
    "    \n",
    "    # Create a column of feature names\n",
    "    df['Feature Name'] = names\n",
    "    \n",
    "    # For each alpha value in the list of alpha values,\n",
    "    for alpha in alphas:\n",
    "        # Create a Ridge regression with that alpha value,\n",
    "        ridge = Ridge(alpha=alpha)\n",
    "        \n",
    "        # Fit the Ridge regression\n",
    "        ridge.fit(X1, Y1)\n",
    "        \n",
    "        # Create a column name for that alpha value\n",
    "        column_name = 'Alpha = %f' % alpha\n",
    "\n",
    "        # Create a column of coefficient values\n",
    "        df[column_name] = ridge.coef_\n",
    "        \n",
    "    # Return the datafram    \n",
    "    return df"
   ]
  },
  {
   "cell_type": "code",
   "execution_count": 8,
   "metadata": {},
   "outputs": [
    {
     "data": {
      "text/html": [
       "<div>\n",
       "<style scoped>\n",
       "    .dataframe tbody tr th:only-of-type {\n",
       "        vertical-align: middle;\n",
       "    }\n",
       "\n",
       "    .dataframe tbody tr th {\n",
       "        vertical-align: top;\n",
       "    }\n",
       "\n",
       "    .dataframe thead th {\n",
       "        text-align: right;\n",
       "    }\n",
       "</style>\n",
       "<table border=\"1\" class=\"dataframe\">\n",
       "  <thead>\n",
       "    <tr style=\"text-align: right;\">\n",
       "      <th></th>\n",
       "      <th>Feature Name</th>\n",
       "      <th>Alpha = 0.000100</th>\n",
       "      <th>Alpha = 0.500000</th>\n",
       "      <th>Alpha = 1.000000</th>\n",
       "    </tr>\n",
       "  </thead>\n",
       "  <tbody>\n",
       "    <tr>\n",
       "      <th>0</th>\n",
       "      <td>CRIM</td>\n",
       "      <td>-0.928145</td>\n",
       "      <td>-0.923962</td>\n",
       "      <td>-0.919871</td>\n",
       "    </tr>\n",
       "    <tr>\n",
       "      <th>1</th>\n",
       "      <td>ZN</td>\n",
       "      <td>1.081567</td>\n",
       "      <td>1.073931</td>\n",
       "      <td>1.066461</td>\n",
       "    </tr>\n",
       "    <tr>\n",
       "      <th>2</th>\n",
       "      <td>INDUS</td>\n",
       "      <td>0.140898</td>\n",
       "      <td>0.128952</td>\n",
       "      <td>0.117385</td>\n",
       "    </tr>\n",
       "    <tr>\n",
       "      <th>3</th>\n",
       "      <td>CHAS</td>\n",
       "      <td>0.681740</td>\n",
       "      <td>0.683461</td>\n",
       "      <td>0.685127</td>\n",
       "    </tr>\n",
       "    <tr>\n",
       "      <th>4</th>\n",
       "      <td>NOX</td>\n",
       "      <td>-2.056715</td>\n",
       "      <td>-2.042758</td>\n",
       "      <td>-2.029010</td>\n",
       "    </tr>\n",
       "    <tr>\n",
       "      <th>5</th>\n",
       "      <td>RM</td>\n",
       "      <td>2.674231</td>\n",
       "      <td>2.678550</td>\n",
       "      <td>2.682754</td>\n",
       "    </tr>\n",
       "    <tr>\n",
       "      <th>6</th>\n",
       "      <td>AGE</td>\n",
       "      <td>0.019465</td>\n",
       "      <td>0.016273</td>\n",
       "      <td>0.013158</td>\n",
       "    </tr>\n",
       "    <tr>\n",
       "      <th>7</th>\n",
       "      <td>DIS</td>\n",
       "      <td>-3.104042</td>\n",
       "      <td>-3.090634</td>\n",
       "      <td>-3.077340</td>\n",
       "    </tr>\n",
       "    <tr>\n",
       "      <th>8</th>\n",
       "      <td>RAD</td>\n",
       "      <td>2.662210</td>\n",
       "      <td>2.626369</td>\n",
       "      <td>2.591538</td>\n",
       "    </tr>\n",
       "    <tr>\n",
       "      <th>9</th>\n",
       "      <td>TAX</td>\n",
       "      <td>-2.076775</td>\n",
       "      <td>-2.043126</td>\n",
       "      <td>-2.010558</td>\n",
       "    </tr>\n",
       "    <tr>\n",
       "      <th>10</th>\n",
       "      <td>PTRATIO</td>\n",
       "      <td>-2.060606</td>\n",
       "      <td>-2.056464</td>\n",
       "      <td>-2.052385</td>\n",
       "    </tr>\n",
       "    <tr>\n",
       "      <th>11</th>\n",
       "      <td>B</td>\n",
       "      <td>0.849268</td>\n",
       "      <td>0.849059</td>\n",
       "      <td>0.848848</td>\n",
       "    </tr>\n",
       "    <tr>\n",
       "      <th>12</th>\n",
       "      <td>LSTAT</td>\n",
       "      <td>-3.743626</td>\n",
       "      <td>-3.737114</td>\n",
       "      <td>-3.730666</td>\n",
       "    </tr>\n",
       "  </tbody>\n",
       "</table>\n",
       "</div>"
      ],
      "text/plain": [
       "   Feature Name  Alpha = 0.000100  Alpha = 0.500000  Alpha = 1.000000\n",
       "0          CRIM         -0.928145         -0.923962         -0.919871\n",
       "1            ZN          1.081567          1.073931          1.066461\n",
       "2         INDUS          0.140898          0.128952          0.117385\n",
       "3          CHAS          0.681740          0.683461          0.685127\n",
       "4           NOX         -2.056715         -2.042758         -2.029010\n",
       "5            RM          2.674231          2.678550          2.682754\n",
       "6           AGE          0.019465          0.016273          0.013158\n",
       "7           DIS         -3.104042         -3.090634         -3.077340\n",
       "8           RAD          2.662210          2.626369          2.591538\n",
       "9           TAX         -2.076775         -2.043126         -2.010558\n",
       "10      PTRATIO         -2.060606         -2.056464         -2.052385\n",
       "11            B          0.849268          0.849059          0.848848\n",
       "12        LSTAT         -3.743626         -3.737114         -3.730666"
      ]
     },
     "execution_count": 8,
     "metadata": {},
     "output_type": "execute_result"
    }
   ],
   "source": [
    "# Run the function called, Lasso\n",
    "ridge([.0001, .5, 1])"
   ]
  },
  {
   "cell_type": "markdown",
   "metadata": {},
   "source": [
    "### Fit Lasso Regression\n",
    "scikit-learn includes a LassoCV method that allows us select the ideal value for α"
   ]
  },
  {
   "cell_type": "code",
   "execution_count": 12,
   "metadata": {},
   "outputs": [],
   "source": [
    "# Create Lasso regression with three possible alpha values\n",
    "lasso_cv = LassoCV(alphas=[.0001, 0.001, 0.01, .5, 10])"
   ]
  },
  {
   "cell_type": "code",
   "execution_count": 13,
   "metadata": {},
   "outputs": [],
   "source": [
    "# Fit the linear regression\n",
    "model_cv = lasso_cv.fit(X_std, y)"
   ]
  },
  {
   "cell_type": "code",
   "execution_count": 14,
   "metadata": {},
   "outputs": [
    {
     "data": {
      "text/plain": [
       "0.01"
      ]
     },
     "execution_count": 14,
     "metadata": {},
     "output_type": "execute_result"
    }
   ],
   "source": [
    "# View alpha\n",
    "model_cv.alpha_"
   ]
  },
  {
   "cell_type": "code",
   "execution_count": null,
   "metadata": {},
   "outputs": [],
   "source": []
  }
 ],
 "metadata": {
  "kernelspec": {
   "display_name": "Python 3",
   "language": "python",
   "name": "python3"
  },
  "language_info": {
   "codemirror_mode": {
    "name": "ipython",
    "version": 3
   },
   "file_extension": ".py",
   "mimetype": "text/x-python",
   "name": "python",
   "nbconvert_exporter": "python",
   "pygments_lexer": "ipython3",
   "version": "3.7.2"
  }
 },
 "nbformat": 4,
 "nbformat_minor": 2
}
